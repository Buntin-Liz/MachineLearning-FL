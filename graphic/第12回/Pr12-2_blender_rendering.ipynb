{
 "cells": [
  {
   "cell_type": "markdown",
   "metadata": {
    "id": "MNd7jnnSkuUD"
   },
   "source": [
    "# Pr12-2: Colab上でのblenderレンダリング\n"
   ]
  },
  {
   "cell_type": "code",
   "execution_count": 1,
   "metadata": {
    "executionInfo": {
     "elapsed": 9,
     "status": "ok",
     "timestamp": 1656825569409,
     "user": {
      "displayName": "Hideki Todo",
      "userId": "01219814711912540523"
     },
     "user_tz": -540
    },
    "id": "8dFNjYGTgNjR"
   },
   "outputs": [],
   "source": [
    "#@title セットアップ\n",
    "#@markdown 以下の項目を設定．\n",
    "\n",
    "path_to_blend = 'Pr12_1_LightPath.blend'  #@param {type: \"string\"}\n",
    "output_path = 'outputs'  #@param {type: \"string\"}\n",
    "gpu_enabled = True #@param {type:\"boolean\"}\n",
    "cpu_enabled = False #@param {type:\"boolean\"}\n",
    "optix_enabled = False #@param {type:\"boolean\"}\n",
    "#@markdown ---\n"
   ]
  },
  {
   "cell_type": "code",
   "execution_count": 2,
   "metadata": {},
   "outputs": [
    {
     "name": "stdout",
     "output_type": "stream",
     "text": [
      "Active code page: 65001\n",
      " Volume in drive D is 雑用\n",
      " Volume Serial Number is D4AC-1350\n",
      "\n",
      " Directory of d:\\OneDrive - 日本大学\\NihonUniv\\Jupyter\\marume\\graphic\\第12回\n",
      "\n",
      "2022/07/05  00:41    <DIR>          .\n",
      "2022/07/04  15:08    <DIR>          ..\n",
      "2022/07/04  16:44    <DIR>          .ipynb_checkpoints\n",
      "2022/07/05  00:27               120 1.sh\n",
      "2022/07/05  00:27               101 2.sh\n",
      "2022/07/05  00:41    <DIR>          blender3.2.0\n",
      "2022/06/08  21:13       192,843,500 blender3.2.0.tar.bz2\n",
      "2022/07/04  15:07    <DIR>          Ex11_XToon\n",
      "2022/07/04  16:07    <DIR>          Ex12_PostStylization\n",
      "2022/07/04  15:16    <DIR>          images\n",
      "2022/07/05  00:54            22,041 Pr12-2_blender_rendering.ipynb\n",
      "2022/07/04  15:17         1,557,464 Pr12_1_LightPath.blend\n",
      "2021/06/30  08:40         1,543,264 Pr12_1_LightPath.blend1\n",
      "2022/07/05  00:47               633 setgpu.py\n",
      "               7 File(s)    195,967,123 bytes\n",
      "               7 Dir(s)  210,198,290,432 bytes free\n"
     ]
    }
   ],
   "source": [
    "!chcp 65001\n",
    "!dir"
   ]
  },
  {
   "cell_type": "markdown",
   "metadata": {
    "id": "KLjYsDZDZUtN"
   },
   "source": [
    "## blenderのインストール"
   ]
  },
  {
   "cell_type": "code",
   "execution_count": 3,
   "metadata": {
    "colab": {
     "base_uri": "https://localhost:8080/"
    },
    "executionInfo": {
     "elapsed": 7290,
     "status": "ok",
     "timestamp": 1656825591554,
     "user": {
      "displayName": "Hideki Todo",
      "userId": "01219814711912540523"
     },
     "user_tz": -540
    },
    "id": "h6vohA2q2BDF",
    "outputId": "25cb9abc-de49-45f9-93e7-577ddee82c76"
   },
   "outputs": [
    {
     "name": "stderr",
     "output_type": "stream",
     "text": [
      "'apt' is not recognized as an internal or external command,\n",
      "operable program or batch file.\n",
      "'apt' is not recognized as an internal or external command,\n",
      "operable program or batch file.\n"
     ]
    }
   ],
   "source": [
    "import os\n",
    "\n",
    "os.environ[\"LD_PRELOAD\"] = \"\"\n",
    "\n",
    "!apt remove libtcmalloc-minimal4\n",
    "!apt install libtcmalloc-minimal4\n",
    "\n",
    "os.environ[\"LD_PRELOAD\"] = \"/usr/lib/x86_64-linux-gnu/libtcmalloc_minimal.so.4.3.0\""
   ]
  },
  {
   "cell_type": "code",
   "execution_count": 4,
   "metadata": {
    "colab": {
     "base_uri": "https://localhost:8080/"
    },
    "executionInfo": {
     "elapsed": 494,
     "status": "ok",
     "timestamp": 1656825598660,
     "user": {
      "displayName": "Hideki Todo",
      "userId": "01219814711912540523"
     },
     "user_tz": -540
    },
    "id": "o7xC5uC8evIG",
    "outputId": "eebdb583-9a1c-4637-a1b6-3bf217644870"
   },
   "outputs": [
    {
     "name": "stdout",
     "output_type": "stream",
     "text": [
      "Current GPU: NVIDIA GeForce RTX 3060 Ti\n"
     ]
    }
   ],
   "source": [
    "gpu = !nvidia-smi --query-gpu=gpu_name --format=csv,noheader\n",
    "print(\"Current GPU: \" + gpu[0])\n",
    "\n",
    "if gpu[0] == \"Tesla K80\" and optix_enabled:\n",
    "  print(\"OptiX disabled because of unsupported GPU\")\n",
    "  optix_enabled = False"
   ]
  },
  {
   "cell_type": "code",
   "execution_count": 5,
   "metadata": {
    "executionInfo": {
     "elapsed": 631,
     "status": "ok",
     "timestamp": 1656825609143,
     "user": {
      "displayName": "Hideki Todo",
      "userId": "01219814711912540523"
     },
     "user_tz": -540
    },
    "id": "GPJ9fmoB6PWM"
   },
   "outputs": [],
   "source": [
    "blender_version = 'blender3.2.0'\n",
    "download_path=\"https://ftp.nluug.nl/pub/graphics/blender/release/Blender3.2/blender-3.2.0-linux-x64.tar.xz\""
   ]
  },
  {
   "cell_type": "code",
   "execution_count": 6,
   "metadata": {
    "colab": {
     "base_uri": "https://localhost:8080/"
    },
    "executionInfo": {
     "elapsed": 18261,
     "status": "ok",
     "timestamp": 1656825745199,
     "user": {
      "displayName": "Hideki Todo",
      "userId": "01219814711912540523"
     },
     "user_tz": -540
    },
    "id": "OQ54OjLVjb26",
    "outputId": "d7b72c06-b61e-4a2c-b338-7cdd60e17cb9",
    "vscode": {
     "languageId": "shellscript"
    }
   },
   "outputs": [
    {
     "name": "stderr",
     "output_type": "stream",
     "text": [
      "'rm' is not recognized as an internal or external command,\n",
      "operable program or batch file.\n",
      "A subdirectory or file blender3.2.0 already exists.\n",
      "'wget' is not recognized as an internal or external command,\n",
      "operable program or batch file.\n",
      "tar: Error opening archive: Failed to open ''blender3.2.0.tar.bz2''\n"
     ]
    }
   ],
   "source": [
    "!rm -r $blender_version\n",
    "!mkdir $blender_version\n",
    "if blender_version == \"blender2.81\" or \"blender2.80\":\n",
    "    !wget -O '{blender_version}.tar.bz2' -nc $download_path\n",
    "    !tar -xf '{blender_version}.tar.bz2' -C ./$blender_version --strip-components=1\n",
    "else:\n",
    "    !wget -O '{blender_version}.tar.xz' -nc $download_path\n",
    "    !tar xf '{blender_version}.tar.xz' -C ./$blender_version --strip-components=1\n"
   ]
  },
  {
   "cell_type": "code",
   "execution_count": 7,
   "metadata": {
    "executionInfo": {
     "elapsed": 799,
     "status": "ok",
     "timestamp": 1656825995893,
     "user": {
      "displayName": "Hideki Todo",
      "userId": "01219814711912540523"
     },
     "user_tz": -540
    },
    "id": "30Tv3lIeVaC6"
   },
   "outputs": [],
   "source": [
    "# Enable GPU rendering (or add custom properties here)\n",
    "data = \"import re\\n\"+\\\n",
    "    \"import bpy\\n\"+\\\n",
    "    \"scene = bpy.context.scene\\n\"+\\\n",
    "    \"scene.cycles.device = 'GPU'\\n\"+\\\n",
    "    \"prefs = bpy.context.preferences\\n\"+\\\n",
    "    \"prefs.addons['cycles'].preferences.get_devices()\\n\"+\\\n",
    "    \"cprefs = prefs.addons['cycles'].preferences\\n\"+\\\n",
    "    \"print(cprefs)\\n\"+\\\n",
    "    \"for compute_device_type in ('CUDA', 'OPENCL', 'NONE'):\\n\"+\\\n",
    "    \"    try:\\n\"+\\\n",
    "    \"        cprefs.compute_device_type = compute_device_type\\n\"+\\\n",
    "    \"        print('Device found:',compute_device_type)\\n\"+\\\n",
    "    \"        break\\n\"+\\\n",
    "    \"    except TypeError:\\n\"+\\\n",
    "    \"        pass\\n\"+\\\n",
    "    \"for device in cprefs.devices:\\n\"+\\\n",
    "    \"    if not re.match('intel', device.name, re.I):\\n\"+\\\n",
    "    \"        print('Activating',device)\\n\"+\\\n",
    "    \"        device.use = \"+str(gpu_enabled)+\"\\n\"+\\\n",
    "    \"    else:\\n\"+\\\n",
    "    \"        device.use = \"+str(cpu_enabled)+\"\\n\"\n",
    "with open('setgpu.py', 'w') as f:\n",
    "    f.write(data)\n",
    "\n",
    "renderer = \"CUDA\"\n",
    "if optix_enabled:\n",
    "    print(\"Note: You're currently using OptiX renderer. If an error occurred, the current GPU (example: Tesla K80) is not supported and you need to switch back to Cycles.\")\n",
    "    renderer = \"OPTIX\""
   ]
  },
  {
   "cell_type": "markdown",
   "metadata": {
    "id": "RPiQkHVbCDu2"
   },
   "source": [
    "## Render Animation (アニメーションをレンダリング)\n",
    "\n",
    "全フレームをレンダリング\n",
    "\n",
    "```\n",
    "!sudo ./$blender_version/blender -P './setgpu.py'  -b '{path_to_blend}' -E CYCLES -o '{output_path}' -a\n",
    "```\n",
    "\n",
    "1から120までを10とばしでレンダリング\n",
    "- -s: フレーム開始番号\n",
    "- -e: フレーム終了番号\n",
    "- -j: レンダリングフレーム間隔\n",
    "```\n",
    "!sudo ./$blender_version/blender -P './setgpu.py'  -b '{path_to_blend}' -E CYCLES -o '{output_path}' -s 1 -e 120 -j 10 -a\n",
    "```"
   ]
  },
  {
   "cell_type": "code",
   "execution_count": 8,
   "metadata": {
    "colab": {
     "base_uri": "https://localhost:8080/"
    },
    "executionInfo": {
     "elapsed": 118295,
     "status": "ok",
     "timestamp": 1656824018205,
     "user": {
      "displayName": "Hideki Todo",
      "userId": "01219814711912540523"
     },
     "user_tz": -540
    },
    "id": "Fpk2w3yM8XqQ",
    "outputId": "5971b17d-e3dd-489b-c6b1-4a1a12450859",
    "vscode": {
     "languageId": "shellscript"
    }
   },
   "outputs": [],
   "source": [
    "!sudo ./$blender_version/blender -P './setgpu.py'  -b '{path_to_blend}' -E CYCLES -o '{output_path}' -s 1 -e 120 -j 30 -a"
   ]
  },
  {
   "cell_type": "markdown",
   "metadata": {
    "id": "qmZg_8Eylgxe"
   },
   "source": [
    "## Render Image (1フレームをレンダリング)\n",
    "\n",
    "{frame}番号を指定してレンダリングできる．\n",
    "\n",
    "```\n",
    "!sudo ./$blender_version/blender -P 'setgpu.py' -b '{path_to_blend}' -E CYCLES -o '{output_path}' -f {frame}\n",
    "```\n",
    "\n",
    "50フレーム目を指定する場合，\n",
    "\n",
    "\n",
    "```\n",
    "!sudo ./$blender_version/blender -P 'setgpu.py' -b '{path_to_blend}' -E CYCLES -o '{output_path}' -f 50\n",
    "```\n",
    "\n",
    "のようにすればレンダリングできる．\n",
    "\n",
    "\n",
    "\n"
   ]
  },
  {
   "cell_type": "code",
   "execution_count": 9,
   "metadata": {
    "colab": {
     "base_uri": "https://localhost:8080/"
    },
    "executionInfo": {
     "elapsed": 55469,
     "status": "ok",
     "timestamp": 1656826077268,
     "user": {
      "displayName": "Hideki Todo",
      "userId": "01219814711912540523"
     },
     "user_tz": -540
    },
    "id": "VFVx8omJCGBN",
    "outputId": "8e08e615-74f4-4ca8-86c3-b8067a92c6cf"
   },
   "outputs": [],
   "source": [
    "!sudo ./$blender_version/blender -P 'setgpu.py' -b '{path_to_blend}' -E CYCLES -o '{output_path}' -f 2"
   ]
  },
  {
   "cell_type": "markdown",
   "metadata": {
    "id": "YWMxDm3Mb_hk"
   },
   "source": [
    "## 出力画像の確認"
   ]
  },
  {
   "cell_type": "code",
   "execution_count": 10,
   "metadata": {
    "colab": {
     "base_uri": "https://localhost:8080/",
     "height": 529
    },
    "executionInfo": {
     "elapsed": 1777,
     "status": "ok",
     "timestamp": 1656824444470,
     "user": {
      "displayName": "Hideki Todo",
      "userId": "01219814711912540523"
     },
     "user_tz": -540
    },
    "id": "ZTh36vf9bnGe",
    "outputId": "1f1d64da-6e80-41c4-b2ae-a4d5620fc0dd"
   },
   "outputs": [
    {
     "ename": "FileNotFoundError",
     "evalue": "[Errno 2] No such file or directory: 'images/normal0002.png'",
     "output_type": "error",
     "traceback": [
      "\u001b[1;31m---------------------------------------------------------------------------\u001b[0m",
      "\u001b[1;31mFileNotFoundError\u001b[0m                         Traceback (most recent call last)",
      "\u001b[1;32m~\\AppData\\Local\\Temp\\ipykernel_27048\\1629199038.py\u001b[0m in \u001b[0;36m<module>\u001b[1;34m\u001b[0m\n\u001b[0;32m      1\u001b[0m \u001b[1;32mfrom\u001b[0m \u001b[0mIPython\u001b[0m\u001b[1;33m.\u001b[0m\u001b[0mdisplay\u001b[0m \u001b[1;32mimport\u001b[0m \u001b[0mImage\u001b[0m\u001b[1;33m\u001b[0m\u001b[1;33m\u001b[0m\u001b[0m\n\u001b[0;32m      2\u001b[0m \u001b[1;33m\u001b[0m\u001b[0m\n\u001b[1;32m----> 3\u001b[1;33m \u001b[0mImage\u001b[0m\u001b[1;33m(\u001b[0m\u001b[0mfilename\u001b[0m\u001b[1;33m=\u001b[0m\u001b[1;34m'images/normal0002.png'\u001b[0m\u001b[1;33m)\u001b[0m\u001b[1;33m\u001b[0m\u001b[1;33m\u001b[0m\u001b[0m\n\u001b[0m",
      "\u001b[1;32mc:\\Users\\aokit\\.conda\\envs\\OpenCV\\lib\\site-packages\\IPython\\core\\display.py\u001b[0m in \u001b[0;36m__init__\u001b[1;34m(self, data, url, filename, format, embed, width, height, retina, unconfined, metadata)\u001b[0m\n\u001b[0;32m   1230\u001b[0m         \u001b[0mself\u001b[0m\u001b[1;33m.\u001b[0m\u001b[0munconfined\u001b[0m \u001b[1;33m=\u001b[0m \u001b[0munconfined\u001b[0m\u001b[1;33m\u001b[0m\u001b[1;33m\u001b[0m\u001b[0m\n\u001b[0;32m   1231\u001b[0m         super(Image, self).__init__(data=data, url=url, filename=filename, \n\u001b[1;32m-> 1232\u001b[1;33m                 metadata=metadata)\n\u001b[0m\u001b[0;32m   1233\u001b[0m \u001b[1;33m\u001b[0m\u001b[0m\n\u001b[0;32m   1234\u001b[0m         \u001b[1;32mif\u001b[0m \u001b[0mself\u001b[0m\u001b[1;33m.\u001b[0m\u001b[0mwidth\u001b[0m \u001b[1;32mis\u001b[0m \u001b[1;32mNone\u001b[0m \u001b[1;32mand\u001b[0m \u001b[0mself\u001b[0m\u001b[1;33m.\u001b[0m\u001b[0mmetadata\u001b[0m\u001b[1;33m.\u001b[0m\u001b[0mget\u001b[0m\u001b[1;33m(\u001b[0m\u001b[1;34m'width'\u001b[0m\u001b[1;33m,\u001b[0m \u001b[1;33m{\u001b[0m\u001b[1;33m}\u001b[0m\u001b[1;33m)\u001b[0m\u001b[1;33m:\u001b[0m\u001b[1;33m\u001b[0m\u001b[1;33m\u001b[0m\u001b[0m\n",
      "\u001b[1;32mc:\\Users\\aokit\\.conda\\envs\\OpenCV\\lib\\site-packages\\IPython\\core\\display.py\u001b[0m in \u001b[0;36m__init__\u001b[1;34m(self, data, url, filename, metadata)\u001b[0m\n\u001b[0;32m    635\u001b[0m             \u001b[0mself\u001b[0m\u001b[1;33m.\u001b[0m\u001b[0mmetadata\u001b[0m \u001b[1;33m=\u001b[0m \u001b[1;33m{\u001b[0m\u001b[1;33m}\u001b[0m\u001b[1;33m\u001b[0m\u001b[1;33m\u001b[0m\u001b[0m\n\u001b[0;32m    636\u001b[0m \u001b[1;33m\u001b[0m\u001b[0m\n\u001b[1;32m--> 637\u001b[1;33m         \u001b[0mself\u001b[0m\u001b[1;33m.\u001b[0m\u001b[0mreload\u001b[0m\u001b[1;33m(\u001b[0m\u001b[1;33m)\u001b[0m\u001b[1;33m\u001b[0m\u001b[1;33m\u001b[0m\u001b[0m\n\u001b[0m\u001b[0;32m    638\u001b[0m         \u001b[0mself\u001b[0m\u001b[1;33m.\u001b[0m\u001b[0m_check_data\u001b[0m\u001b[1;33m(\u001b[0m\u001b[1;33m)\u001b[0m\u001b[1;33m\u001b[0m\u001b[1;33m\u001b[0m\u001b[0m\n\u001b[0;32m    639\u001b[0m \u001b[1;33m\u001b[0m\u001b[0m\n",
      "\u001b[1;32mc:\\Users\\aokit\\.conda\\envs\\OpenCV\\lib\\site-packages\\IPython\\core\\display.py\u001b[0m in \u001b[0;36mreload\u001b[1;34m(self)\u001b[0m\n\u001b[0;32m   1261\u001b[0m         \u001b[1;34m\"\"\"Reload the raw data from file or URL.\"\"\"\u001b[0m\u001b[1;33m\u001b[0m\u001b[1;33m\u001b[0m\u001b[0m\n\u001b[0;32m   1262\u001b[0m         \u001b[1;32mif\u001b[0m \u001b[0mself\u001b[0m\u001b[1;33m.\u001b[0m\u001b[0membed\u001b[0m\u001b[1;33m:\u001b[0m\u001b[1;33m\u001b[0m\u001b[1;33m\u001b[0m\u001b[0m\n\u001b[1;32m-> 1263\u001b[1;33m             \u001b[0msuper\u001b[0m\u001b[1;33m(\u001b[0m\u001b[0mImage\u001b[0m\u001b[1;33m,\u001b[0m\u001b[0mself\u001b[0m\u001b[1;33m)\u001b[0m\u001b[1;33m.\u001b[0m\u001b[0mreload\u001b[0m\u001b[1;33m(\u001b[0m\u001b[1;33m)\u001b[0m\u001b[1;33m\u001b[0m\u001b[1;33m\u001b[0m\u001b[0m\n\u001b[0m\u001b[0;32m   1264\u001b[0m             \u001b[1;32mif\u001b[0m \u001b[0mself\u001b[0m\u001b[1;33m.\u001b[0m\u001b[0mretina\u001b[0m\u001b[1;33m:\u001b[0m\u001b[1;33m\u001b[0m\u001b[1;33m\u001b[0m\u001b[0m\n\u001b[0;32m   1265\u001b[0m                 \u001b[0mself\u001b[0m\u001b[1;33m.\u001b[0m\u001b[0m_retina_shape\u001b[0m\u001b[1;33m(\u001b[0m\u001b[1;33m)\u001b[0m\u001b[1;33m\u001b[0m\u001b[1;33m\u001b[0m\u001b[0m\n",
      "\u001b[1;32mc:\\Users\\aokit\\.conda\\envs\\OpenCV\\lib\\site-packages\\IPython\\core\\display.py\u001b[0m in \u001b[0;36mreload\u001b[1;34m(self)\u001b[0m\n\u001b[0;32m    660\u001b[0m         \u001b[1;34m\"\"\"Reload the raw data from file or URL.\"\"\"\u001b[0m\u001b[1;33m\u001b[0m\u001b[1;33m\u001b[0m\u001b[0m\n\u001b[0;32m    661\u001b[0m         \u001b[1;32mif\u001b[0m \u001b[0mself\u001b[0m\u001b[1;33m.\u001b[0m\u001b[0mfilename\u001b[0m \u001b[1;32mis\u001b[0m \u001b[1;32mnot\u001b[0m \u001b[1;32mNone\u001b[0m\u001b[1;33m:\u001b[0m\u001b[1;33m\u001b[0m\u001b[1;33m\u001b[0m\u001b[0m\n\u001b[1;32m--> 662\u001b[1;33m             \u001b[1;32mwith\u001b[0m \u001b[0mopen\u001b[0m\u001b[1;33m(\u001b[0m\u001b[0mself\u001b[0m\u001b[1;33m.\u001b[0m\u001b[0mfilename\u001b[0m\u001b[1;33m,\u001b[0m \u001b[0mself\u001b[0m\u001b[1;33m.\u001b[0m\u001b[0m_read_flags\u001b[0m\u001b[1;33m)\u001b[0m \u001b[1;32mas\u001b[0m \u001b[0mf\u001b[0m\u001b[1;33m:\u001b[0m\u001b[1;33m\u001b[0m\u001b[1;33m\u001b[0m\u001b[0m\n\u001b[0m\u001b[0;32m    663\u001b[0m                 \u001b[0mself\u001b[0m\u001b[1;33m.\u001b[0m\u001b[0mdata\u001b[0m \u001b[1;33m=\u001b[0m \u001b[0mf\u001b[0m\u001b[1;33m.\u001b[0m\u001b[0mread\u001b[0m\u001b[1;33m(\u001b[0m\u001b[1;33m)\u001b[0m\u001b[1;33m\u001b[0m\u001b[1;33m\u001b[0m\u001b[0m\n\u001b[0;32m    664\u001b[0m         \u001b[1;32melif\u001b[0m \u001b[0mself\u001b[0m\u001b[1;33m.\u001b[0m\u001b[0murl\u001b[0m \u001b[1;32mis\u001b[0m \u001b[1;32mnot\u001b[0m \u001b[1;32mNone\u001b[0m\u001b[1;33m:\u001b[0m\u001b[1;33m\u001b[0m\u001b[1;33m\u001b[0m\u001b[0m\n",
      "\u001b[1;31mFileNotFoundError\u001b[0m: [Errno 2] No such file or directory: 'images/normal0002.png'"
     ]
    }
   ],
   "source": [
    "from IPython.display import Image\n",
    "\n",
    "Image(filename='images/normal0002.png')"
   ]
  },
  {
   "cell_type": "markdown",
   "metadata": {
    "id": "mYBhRK6wikAi"
   },
   "source": [
    "## Googleドライブの利用\n",
    "\n",
    "以下のコードでGoogleドライブのデータを入出力できるようになります．\n",
    "\n",
    "Googleドライブがマウントされると，\n",
    "- `/gdrive/My Drive/{file_path}`\n",
    "\n",
    "のようにしてデータにアクセスできます．\n"
   ]
  },
  {
   "cell_type": "code",
   "execution_count": null,
   "metadata": {
    "colab": {
     "base_uri": "https://localhost:8080/"
    },
    "executionInfo": {
     "elapsed": 22954,
     "status": "ok",
     "timestamp": 1625067283827,
     "user": {
      "displayName": "Hideki Todo",
      "photoUrl": "",
      "userId": "01219814711912540523"
     },
     "user_tz": -540
    },
    "id": "hFHAn0i_iYgR",
    "outputId": "4c41d876-0255-4ae9-ec65-ae0ee76f6f2a"
   },
   "outputs": [
    {
     "ename": "",
     "evalue": "",
     "output_type": "error",
     "traceback": [
      "\u001b[1;31mRunning cells with 'Python 3.10.5 64-bit (windows store)' requires ipykernel package.\n",
      "Run the following command to install 'ipykernel' into the Python environment. \n",
      "Command: 'c:/Users/aokit/AppData/Local/Microsoft/WindowsApps/python3.10.exe -m pip install ipykernel -U --user --force-reinstall'"
     ]
    }
   ],
   "source": [
    "from google.colab import drive\n",
    "drive.mount('/gdrive')"
   ]
  },
  {
   "cell_type": "code",
   "execution_count": null,
   "metadata": {},
   "outputs": [
    {
     "ename": "",
     "evalue": "",
     "output_type": "error",
     "traceback": [
      "\u001b[1;31mRunning cells with 'Python 3.10.5 64-bit (windows store)' requires ipykernel package.\n",
      "Run the following command to install 'ipykernel' into the Python environment. \n",
      "Command: 'c:/Users/aokit/AppData/Local/Microsoft/WindowsApps/python3.10.exe -m pip install ipykernel -U --user --force-reinstall'"
     ]
    }
   ],
   "source": []
  },
  {
   "cell_type": "code",
   "execution_count": null,
   "metadata": {},
   "outputs": [
    {
     "ename": "",
     "evalue": "",
     "output_type": "error",
     "traceback": [
      "\u001b[1;31mRunning cells with 'Python 3.10.5 64-bit (windows store)' requires ipykernel package.\n",
      "Run the following command to install 'ipykernel' into the Python environment. \n",
      "Command: 'c:/Users/aokit/AppData/Local/Microsoft/WindowsApps/python3.10.exe -m pip install ipykernel -U --user --force-reinstall'"
     ]
    }
   ],
   "source": []
  }
 ],
 "metadata": {
  "accelerator": "GPU",
  "colab": {
   "collapsed_sections": [
    "KLjYsDZDZUtN"
   ],
   "name": "Pr12-2_blender_rendering.ipynb",
   "provenance": [
    {
     "file_id": "1iXjNyMnTO_iQrItwRKdS8ZOkvpK0fBY4",
     "timestamp": 1625064236006
    },
    {
     "file_id": "https://github.com/donmahallem/colab_blender/blob/master/runblender.ipynb",
     "timestamp": 1613575674988
    }
   ]
  },
  "gpuClass": "standard",
  "kernelspec": {
   "display_name": "Python 3.7.13 ('OpenCV')",
   "language": "python",
   "name": "python3"
  },
  "language_info": {
   "codemirror_mode": {
    "name": "ipython",
    "version": 3
   },
   "file_extension": ".py",
   "mimetype": "text/x-python",
   "name": "python",
   "nbconvert_exporter": "python",
   "pygments_lexer": "ipython3",
   "version": "3.7.13"
  },
  "vscode": {
   "interpreter": {
    "hash": "947691cd3b08805f9ea5f3eede55a94f96bcb30278f6d24bd47600c0e06fbe42"
   }
  }
 },
 "nbformat": 4,
 "nbformat_minor": 1
}
